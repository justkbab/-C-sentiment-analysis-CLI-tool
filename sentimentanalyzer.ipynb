{
 "cells": [
  {
   "cell_type": "markdown",
   "id": "90c0b58e-60ff-4d81-bcf1-330c157b8117",
   "metadata": {},
   "source": [
    "# Data Hackfest Project - Sentiment Analysis/Interactive Menu\n",
    "\n",
    "My teammate and I are working on a project that involves one me working with Python and the other with C++. For my part, I will be using a simple dataset of random YouTube comments to compare the accuracy of two packages that analyze sentiments from texts. My teammate will use the updated dataset with the predicted sentiments of the comments from both packages to create an interactive menu.\n",
    "\n",
    "# Data Loading:"
   ]
  },
  {
   "cell_type": "code",
   "execution_count": 1,
   "id": "06e47b28-c524-4a0f-9207-7b2765fabf80",
   "metadata": {},
   "outputs": [
    {
     "name": "stdout",
     "output_type": "stream",
     "text": [
      "Defaulting to user installation because normal site-packages is not writeable\n",
      "Looking in links: /usr/share/pip-wheels\n",
      "Requirement already satisfied: textblob in ./.local/lib/python3.10/site-packages (0.19.0)\n",
      "Requirement already satisfied: nltk>=3.9 in ./.local/lib/python3.10/site-packages (from textblob) (3.9.1)\n",
      "Requirement already satisfied: click in /opt/conda/envs/anaconda-2024.02-py310/lib/python3.10/site-packages (from nltk>=3.9->textblob) (8.1.7)\n",
      "Requirement already satisfied: joblib in /opt/conda/envs/anaconda-2024.02-py310/lib/python3.10/site-packages (from nltk>=3.9->textblob) (1.2.0)\n",
      "Requirement already satisfied: regex>=2021.8.3 in /opt/conda/envs/anaconda-2024.02-py310/lib/python3.10/site-packages (from nltk>=3.9->textblob) (2023.10.3)\n",
      "Requirement already satisfied: tqdm in /opt/conda/envs/anaconda-2024.02-py310/lib/python3.10/site-packages (from nltk>=3.9->textblob) (4.65.0)\n"
     ]
    }
   ],
   "source": [
    "!pip install textblob\n",
    "import pandas as pd\n",
    "from textblob import TextBlob  \n",
    "import matplotlib.pyplot as plt"
   ]
  },
  {
   "cell_type": "code",
   "execution_count": 2,
   "id": "cc94ec8b-d62a-4765-b1db-8e38f5531038",
   "metadata": {},
   "outputs": [
    {
     "data": {
      "text/html": [
       "<div>\n",
       "<style scoped>\n",
       "    .dataframe tbody tr th:only-of-type {\n",
       "        vertical-align: middle;\n",
       "    }\n",
       "\n",
       "    .dataframe tbody tr th {\n",
       "        vertical-align: top;\n",
       "    }\n",
       "\n",
       "    .dataframe thead th {\n",
       "        text-align: right;\n",
       "    }\n",
       "</style>\n",
       "<table border=\"1\" class=\"dataframe\">\n",
       "  <thead>\n",
       "    <tr style=\"text-align: right;\">\n",
       "      <th></th>\n",
       "      <th>Comment</th>\n",
       "      <th>Sentiment</th>\n",
       "    </tr>\n",
       "  </thead>\n",
       "  <tbody>\n",
       "    <tr>\n",
       "      <th>0</th>\n",
       "      <td>lets not forget that apple pay in 2014 require...</td>\n",
       "      <td>neutral</td>\n",
       "    </tr>\n",
       "    <tr>\n",
       "      <th>1</th>\n",
       "      <td>here in nz 50 of retailers don’t even have con...</td>\n",
       "      <td>negative</td>\n",
       "    </tr>\n",
       "    <tr>\n",
       "      <th>2</th>\n",
       "      <td>i will forever acknowledge this channel with t...</td>\n",
       "      <td>positive</td>\n",
       "    </tr>\n",
       "    <tr>\n",
       "      <th>3</th>\n",
       "      <td>whenever i go to a place that doesn’t take app...</td>\n",
       "      <td>negative</td>\n",
       "    </tr>\n",
       "    <tr>\n",
       "      <th>4</th>\n",
       "      <td>apple pay is so convenient secure and easy to ...</td>\n",
       "      <td>positive</td>\n",
       "    </tr>\n",
       "  </tbody>\n",
       "</table>\n",
       "</div>"
      ],
      "text/plain": [
       "                                             Comment Sentiment\n",
       "0  lets not forget that apple pay in 2014 require...   neutral\n",
       "1  here in nz 50 of retailers don’t even have con...  negative\n",
       "2  i will forever acknowledge this channel with t...  positive\n",
       "3  whenever i go to a place that doesn’t take app...  negative\n",
       "4  apple pay is so convenient secure and easy to ...  positive"
      ]
     },
     "execution_count": 2,
     "metadata": {},
     "output_type": "execute_result"
    }
   ],
   "source": [
    "df = pd.read_csv('CSV_Files/YoutubeCommentsDataSet.csv') \n",
    "df.head()"
   ]
  },
  {
   "cell_type": "markdown",
   "id": "4101c0fa-8b7d-4d4c-b538-4c8dd2e2af13",
   "metadata": {},
   "source": [
    "As you can see, the dataset only has two columns, \"Comment\" and \"Sentiment\", meaning all I'll have to analyze is the \"Comment\" column.\n",
    "\n",
    "# Sentiment Analysis with TextBlob:\n",
    "\n",
    "Next, I'm going to utilize TextBlob, which will help me analyze the sentiment of the text given its built-in language processing abilities. With this, it can specifically label each comment in the dataset."
   ]
  },
  {
   "cell_type": "code",
   "execution_count": 3,
   "id": "da9ba7eb-c3c7-4140-be48-86860f30c42f",
   "metadata": {},
   "outputs": [],
   "source": [
    "def get_sentiment(text):\n",
    "    positivity = TextBlob(str(text)).sentiment.polarity\n",
    "    if positivity > 0:\n",
    "        return \"positive\"\n",
    "    elif positivity < 0:\n",
    "        return \"negative\"\n",
    "    else:\n",
    "        return \"neutral\""
   ]
  },
  {
   "cell_type": "markdown",
   "id": "25116597-dcec-4c90-a98c-c8efe97b1afa",
   "metadata": {},
   "source": [
    "Now, I'm going to apply the function I defined to the comments to see what TextBlob thinks of it:"
   ]
  },
  {
   "cell_type": "code",
   "execution_count": 4,
   "id": "208baf6a-10bb-4161-95f6-63fe17ef4178",
   "metadata": {},
   "outputs": [
    {
     "data": {
      "text/html": [
       "<div>\n",
       "<style scoped>\n",
       "    .dataframe tbody tr th:only-of-type {\n",
       "        vertical-align: middle;\n",
       "    }\n",
       "\n",
       "    .dataframe tbody tr th {\n",
       "        vertical-align: top;\n",
       "    }\n",
       "\n",
       "    .dataframe thead th {\n",
       "        text-align: right;\n",
       "    }\n",
       "</style>\n",
       "<table border=\"1\" class=\"dataframe\">\n",
       "  <thead>\n",
       "    <tr style=\"text-align: right;\">\n",
       "      <th></th>\n",
       "      <th>Comment</th>\n",
       "      <th>Sentiment</th>\n",
       "      <th>TextBlob_Prediction</th>\n",
       "    </tr>\n",
       "  </thead>\n",
       "  <tbody>\n",
       "    <tr>\n",
       "      <th>0</th>\n",
       "      <td>lets not forget that apple pay in 2014 require...</td>\n",
       "      <td>neutral</td>\n",
       "      <td>positive</td>\n",
       "    </tr>\n",
       "    <tr>\n",
       "      <th>1</th>\n",
       "      <td>here in nz 50 of retailers don’t even have con...</td>\n",
       "      <td>negative</td>\n",
       "      <td>positive</td>\n",
       "    </tr>\n",
       "    <tr>\n",
       "      <th>2</th>\n",
       "      <td>i will forever acknowledge this channel with t...</td>\n",
       "      <td>positive</td>\n",
       "      <td>neutral</td>\n",
       "    </tr>\n",
       "    <tr>\n",
       "      <th>3</th>\n",
       "      <td>whenever i go to a place that doesn’t take app...</td>\n",
       "      <td>negative</td>\n",
       "      <td>negative</td>\n",
       "    </tr>\n",
       "    <tr>\n",
       "      <th>4</th>\n",
       "      <td>apple pay is so convenient secure and easy to ...</td>\n",
       "      <td>positive</td>\n",
       "      <td>positive</td>\n",
       "    </tr>\n",
       "  </tbody>\n",
       "</table>\n",
       "</div>"
      ],
      "text/plain": [
       "                                             Comment Sentiment  \\\n",
       "0  lets not forget that apple pay in 2014 require...   neutral   \n",
       "1  here in nz 50 of retailers don’t even have con...  negative   \n",
       "2  i will forever acknowledge this channel with t...  positive   \n",
       "3  whenever i go to a place that doesn’t take app...  negative   \n",
       "4  apple pay is so convenient secure and easy to ...  positive   \n",
       "\n",
       "  TextBlob_Prediction  \n",
       "0            positive  \n",
       "1            positive  \n",
       "2             neutral  \n",
       "3            negative  \n",
       "4            positive  "
      ]
     },
     "execution_count": 4,
     "metadata": {},
     "output_type": "execute_result"
    }
   ],
   "source": [
    "df[\"TextBlob_Prediction\"] = df[\"Comment\"].apply(get_sentiment)\n",
    "df.head()"
   ]
  },
  {
   "cell_type": "code",
   "execution_count": 5,
   "id": "1f34b70c-3ca8-42c9-a8c0-234552575fea",
   "metadata": {},
   "outputs": [
    {
     "data": {
      "text/html": [
       "<div>\n",
       "<style scoped>\n",
       "    .dataframe tbody tr th:only-of-type {\n",
       "        vertical-align: middle;\n",
       "    }\n",
       "\n",
       "    .dataframe tbody tr th {\n",
       "        vertical-align: top;\n",
       "    }\n",
       "\n",
       "    .dataframe thead th {\n",
       "        text-align: right;\n",
       "    }\n",
       "</style>\n",
       "<table border=\"1\" class=\"dataframe\">\n",
       "  <thead>\n",
       "    <tr style=\"text-align: right;\">\n",
       "      <th></th>\n",
       "      <th>Comment</th>\n",
       "      <th>Sentiment</th>\n",
       "      <th>TextBlob_Prediction</th>\n",
       "    </tr>\n",
       "  </thead>\n",
       "  <tbody>\n",
       "    <tr>\n",
       "      <th>18403</th>\n",
       "      <td>i really like the point about engineering tool...</td>\n",
       "      <td>positive</td>\n",
       "      <td>positive</td>\n",
       "    </tr>\n",
       "    <tr>\n",
       "      <th>18404</th>\n",
       "      <td>i’ve just started exploring this field and thi...</td>\n",
       "      <td>positive</td>\n",
       "      <td>positive</td>\n",
       "    </tr>\n",
       "    <tr>\n",
       "      <th>18405</th>\n",
       "      <td>excelente video con una pregunta filosófica pr...</td>\n",
       "      <td>neutral</td>\n",
       "      <td>negative</td>\n",
       "    </tr>\n",
       "    <tr>\n",
       "      <th>18406</th>\n",
       "      <td>hey daniel just discovered your channel a coup...</td>\n",
       "      <td>positive</td>\n",
       "      <td>neutral</td>\n",
       "    </tr>\n",
       "    <tr>\n",
       "      <th>18407</th>\n",
       "      <td>this is great focus is key a playful approach ...</td>\n",
       "      <td>positive</td>\n",
       "      <td>positive</td>\n",
       "    </tr>\n",
       "  </tbody>\n",
       "</table>\n",
       "</div>"
      ],
      "text/plain": [
       "                                                 Comment Sentiment  \\\n",
       "18403  i really like the point about engineering tool...  positive   \n",
       "18404  i’ve just started exploring this field and thi...  positive   \n",
       "18405  excelente video con una pregunta filosófica pr...   neutral   \n",
       "18406  hey daniel just discovered your channel a coup...  positive   \n",
       "18407  this is great focus is key a playful approach ...  positive   \n",
       "\n",
       "      TextBlob_Prediction  \n",
       "18403            positive  \n",
       "18404            positive  \n",
       "18405            negative  \n",
       "18406             neutral  \n",
       "18407            positive  "
      ]
     },
     "execution_count": 5,
     "metadata": {},
     "output_type": "execute_result"
    }
   ],
   "source": [
    "df.tail()"
   ]
  },
  {
   "cell_type": "markdown",
   "id": "b7456cd4-9a2a-476b-a336-df09cf9dcd44",
   "metadata": {},
   "source": [
    "Based on what we can see between the original and predicted sentiments, it seems that there are some slight disagreements between the two. Sometimes, the original sentiment is negative, when the predicted is positive. Or, it might originally be neutral, but predicted to be negative.\n",
    "\n",
    "For a solid conclusion, however, I'm going to find out exactly how accurate this model is by dividing how many it got correct by the total amount of rows in the dataframe."
   ]
  },
  {
   "cell_type": "markdown",
   "id": "1edb4a82-a024-46de-9329-d666d6431d8b",
   "metadata": {},
   "source": [
    "# Accuracy Evaluation:"
   ]
  },
  {
   "cell_type": "code",
   "execution_count": 6,
   "id": "6633af8c-d21a-43cf-8b1e-8b48057d4191",
   "metadata": {},
   "outputs": [
    {
     "data": {
      "text/plain": [
       "0.6768796175575836"
      ]
     },
     "execution_count": 6,
     "metadata": {},
     "output_type": "execute_result"
    }
   ],
   "source": [
    "correct = (df[\"Sentiment\"] == df[\"TextBlob_Prediction\"]).sum()\n",
    "total = len(df)\n",
    "accuracy = correct / total\n",
    "accuracy"
   ]
  },
  {
   "cell_type": "markdown",
   "id": "531bd9e3-e333-4027-b9e9-4f702de314ef",
   "metadata": {},
   "source": [
    "I see that this model is about 67% accurate, which means that two out of every three comments were accurately predicted by textblob."
   ]
  },
  {
   "cell_type": "markdown",
   "id": "39c55af1-07a9-474b-bdd7-351b352735ba",
   "metadata": {},
   "source": [
    "# Visualization:"
   ]
  },
  {
   "cell_type": "code",
   "execution_count": 7,
   "id": "34e50f29-1f90-4499-8070-753e8bbc4960",
   "metadata": {},
   "outputs": [
    {
     "data": {
      "image/png": "[encoded data removed]",
      "text/plain": [
       "<Figure size 640x480 with 1 Axes>"
      ]
     },
     "metadata": {},
     "output_type": "display_data"
    }
   ],
   "source": [
    "df[\"Sentiment\"].value_counts(normalize=True).plot(kind=\"bar\", alpha=0.5, label=\"Original\", color=\"blue\")\n",
    "df[\"TextBlob_Prediction\"].value_counts(normalize=True).plot(kind=\"bar\", alpha=0.5, label=\"Predicted\", color=\"red\")\n",
    "plt.title(\"Label Distribution Comparison\")\n",
    "plt.ylabel(\"Proportion\")\n",
    "plt.legend()\n",
    "plt.show()"
   ]
  },
  {
   "cell_type": "markdown",
   "id": "5c184871-e7b9-47a9-9020-1d3a60698210",
   "metadata": {},
   "source": [
    "# Comparison With Vader: \n",
    "I will now compare the accuracy of the TextBlob package with Vader package."
   ]
  },
  {
   "cell_type": "code",
   "execution_count": 8,
   "id": "86a8eaf8-08b8-4ad2-8b09-202837ff162f",
   "metadata": {},
   "outputs": [
    {
     "name": "stdout",
     "output_type": "stream",
     "text": [
      "Defaulting to user installation because normal site-packages is not writeable\n",
      "Looking in links: /usr/share/pip-wheels\n",
      "Requirement already satisfied: vaderSentiment in ./.local/lib/python3.10/site-packages (3.3.2)\n",
      "Requirement already satisfied: requests in /opt/conda/envs/anaconda-2024.02-py310/lib/python3.10/site-packages (from vaderSentiment) (2.31.0)\n",
      "Requirement already satisfied: charset-normalizer<4,>=2 in /opt/conda/envs/anaconda-2024.02-py310/lib/python3.10/site-packages (from requests->vaderSentiment) (2.0.4)\n",
      "Requirement already satisfied: idna<4,>=2.5 in /opt/conda/envs/anaconda-2024.02-py310/lib/python3.10/site-packages (from requests->vaderSentiment) (3.4)\n",
      "Requirement already satisfied: urllib3<3,>=1.21.1 in /opt/conda/envs/anaconda-2024.02-py310/lib/python3.10/site-packages (from requests->vaderSentiment) (2.0.7)\n",
      "Requirement already satisfied: certifi>=2017.4.17 in /opt/conda/envs/anaconda-2024.02-py310/lib/python3.10/site-packages (from requests->vaderSentiment) (2024.2.2)\n"
     ]
    }
   ],
   "source": [
    "!pip install vaderSentiment\n",
    "from vaderSentiment.vaderSentiment import SentimentIntensityAnalyzer"
   ]
  },
  {
   "cell_type": "code",
   "execution_count": 9,
   "id": "cb01b911-167e-4c94-bd87-eba0d9b14305",
   "metadata": {},
   "outputs": [
    {
     "data": {
      "text/html": [
       "<div>\n",
       "<style scoped>\n",
       "    .dataframe tbody tr th:only-of-type {\n",
       "        vertical-align: middle;\n",
       "    }\n",
       "\n",
       "    .dataframe tbody tr th {\n",
       "        vertical-align: top;\n",
       "    }\n",
       "\n",
       "    .dataframe thead th {\n",
       "        text-align: right;\n",
       "    }\n",
       "</style>\n",
       "<table border=\"1\" class=\"dataframe\">\n",
       "  <thead>\n",
       "    <tr style=\"text-align: right;\">\n",
       "      <th></th>\n",
       "      <th>Comment</th>\n",
       "      <th>Sentiment</th>\n",
       "      <th>TextBlob_Prediction</th>\n",
       "      <th>Vader_Prediction</th>\n",
       "    </tr>\n",
       "  </thead>\n",
       "  <tbody>\n",
       "    <tr>\n",
       "      <th>0</th>\n",
       "      <td>lets not forget that apple pay in 2014 require...</td>\n",
       "      <td>neutral</td>\n",
       "      <td>positive</td>\n",
       "      <td>positive</td>\n",
       "    </tr>\n",
       "    <tr>\n",
       "      <th>1</th>\n",
       "      <td>here in nz 50 of retailers don’t even have con...</td>\n",
       "      <td>negative</td>\n",
       "      <td>positive</td>\n",
       "      <td>positive</td>\n",
       "    </tr>\n",
       "    <tr>\n",
       "      <th>2</th>\n",
       "      <td>i will forever acknowledge this channel with t...</td>\n",
       "      <td>positive</td>\n",
       "      <td>neutral</td>\n",
       "      <td>positive</td>\n",
       "    </tr>\n",
       "    <tr>\n",
       "      <th>3</th>\n",
       "      <td>whenever i go to a place that doesn’t take app...</td>\n",
       "      <td>negative</td>\n",
       "      <td>negative</td>\n",
       "      <td>negative</td>\n",
       "    </tr>\n",
       "    <tr>\n",
       "      <th>4</th>\n",
       "      <td>apple pay is so convenient secure and easy to ...</td>\n",
       "      <td>positive</td>\n",
       "      <td>positive</td>\n",
       "      <td>positive</td>\n",
       "    </tr>\n",
       "  </tbody>\n",
       "</table>\n",
       "</div>"
      ],
      "text/plain": [
       "                                             Comment Sentiment  \\\n",
       "0  lets not forget that apple pay in 2014 require...   neutral   \n",
       "1  here in nz 50 of retailers don’t even have con...  negative   \n",
       "2  i will forever acknowledge this channel with t...  positive   \n",
       "3  whenever i go to a place that doesn’t take app...  negative   \n",
       "4  apple pay is so convenient secure and easy to ...  positive   \n",
       "\n",
       "  TextBlob_Prediction Vader_Prediction  \n",
       "0            positive         positive  \n",
       "1            positive         positive  \n",
       "2             neutral         positive  \n",
       "3            negative         negative  \n",
       "4            positive         positive  "
      ]
     },
     "execution_count": 9,
     "metadata": {},
     "output_type": "execute_result"
    }
   ],
   "source": [
    "analyzer = SentimentIntensityAnalyzer()\n",
    "def get_vader_sentiment(text):\n",
    "    positivity = analyzer.polarity_scores(str(text))\n",
    "    if positivity['compound'] >= 0.05:\n",
    "        return 'positive'\n",
    "    elif positivity['compound'] <= -0.05:\n",
    "        return 'negative'\n",
    "    else:\n",
    "        return 'neutral'\n",
    "\n",
    "df['Vader_Prediction'] = df['Comment'].apply(get_vader_sentiment)\n",
    "df.head()"
   ]
  },
  {
   "cell_type": "markdown",
   "id": "83905ba6-fc89-4aeb-a8b9-9c22e13b9677",
   "metadata": {},
   "source": [
    "# Vader Accuracy Evaluation:"
   ]
  },
  {
   "cell_type": "code",
   "execution_count": 10,
   "id": "a15101d9-9d1d-4986-89b4-f842e4a66648",
   "metadata": {},
   "outputs": [
    {
     "data": {
      "text/plain": [
       "0.7106692742285963"
      ]
     },
     "execution_count": 10,
     "metadata": {},
     "output_type": "execute_result"
    }
   ],
   "source": [
    "correct = (df[\"Sentiment\"] == df[\"Vader_Prediction\"]).sum()\n",
    "total = len(df)\n",
    "accuracy = correct / total\n",
    "accuracy"
   ]
  },
  {
   "cell_type": "markdown",
   "id": "362c303e-d8cd-45f1-83d4-077f4a55184e",
   "metadata": {},
   "source": [
    "The overall accuracy for VADER is about 71%, 4% better than TextBlob, most likely because this package is designed to interpret the behavior of social media interactions as opposed to TextBlob's more general purpose. This tells us that choosing the correct tools for your data is important in machine learning."
   ]
  },
  {
   "cell_type": "markdown",
   "id": "0de733ab-7790-42f5-8e3b-016cc73d469c",
   "metadata": {},
   "source": [
    "# Visualation #2:"
   ]
  },
  {
   "cell_type": "code",
   "execution_count": 11,
   "id": "76c29903-53a1-4105-8e1d-dfdbad839156",
   "metadata": {},
   "outputs": [
    {
     "data": {
      "image/png": "[encoded data removed]",
      "text/plain": [
       "<Figure size 640x480 with 1 Axes>"
      ]
     },
     "metadata": {},
     "output_type": "display_data"
    }
   ],
   "source": [
    "df[\"Sentiment\"].value_counts(normalize=True).plot(kind=\"bar\", alpha=0.5, label=\"Original\", color=\"blue\")\n",
    "df[\"TextBlob_Prediction\"].value_counts(normalize=True).plot(kind=\"bar\", alpha=0.5, label=\"TextBlob\", color=\"red\")\n",
    "df[\"Vader_Prediction\"].value_counts(normalize=True).plot(kind=\"bar\", alpha=0.5, label=\"Vader\", color=\"green\")\n",
    "plt.title(\"Label Distribution Comparison\")\n",
    "plt.ylabel(\"Proportion\")\n",
    "plt.legend()\n",
    "plt.show()"
   ]
  },
  {
   "cell_type": "code",
   "execution_count": 12,
   "id": "e15a9efd-0dc3-40bb-95cf-4fc11f44a5b3",
   "metadata": {},
   "outputs": [],
   "source": [
    "df.to_csv(\"YTSentimentPredictions.csv\", index=False) # Creating a new csv for my teammate."
   ]
  }
 ],
 "metadata": {
  "kernelspec": {
   "display_name": "anaconda-2024.02-py310",
   "language": "python",
   "name": "conda-env-anaconda-2024.02-py310-py"
  },
  "language_info": {
   "codemirror_mode": {
    "name": "ipython",
    "version": 3
   },
   "file_extension": ".py",
   "mimetype": "text/x-python",
   "name": "python",
   "nbconvert_exporter": "python",
   "pygments_lexer": "ipython3",
   "version": "3.10.14"
  }
 },
 "nbformat": 4,
 "nbformat_minor": 5
}
